{
  "nbformat": 4,
  "nbformat_minor": 0,
  "metadata": {
    "colab": {
      "provenance": [],
      "collapsed_sections": []
    },
    "kernelspec": {
      "name": "python3",
      "display_name": "Python 3"
    },
    "language_info": {
      "name": "python"
    }
  },
  "cells": [
    {
      "cell_type": "markdown",
      "source": [
        "PRIMORDIA Tutorial using Google colab"
      ],
      "metadata": {
        "id": "pmu8ccKPZXx5"
      }
    },
    {
      "cell_type": "markdown",
      "source": [
        "# Installation of third party libraries \n",
        "\n",
        "\n"
      ],
      "metadata": {
        "id": "3dqLD4FIZgsW"
      }
    },
    {
      "cell_type": "code",
      "source": [
        "!apt install g++-8\n",
        "!apt install libeigen3-dev"
      ],
      "metadata": {
        "id": "oyxMwTZnpTs4"
      },
      "execution_count": null,
      "outputs": []
    },
    {
      "cell_type": "markdown",
      "source": [
        "# Clone the Repo and Install"
      ],
      "metadata": {
        "id": "sigiinijKlDN"
      }
    },
    {
      "cell_type": "code",
      "source": [
        "!git clone https://github.com/igorChem/PRIMoRDiA1.0v\n",
        "%cd /content/PRIMoRDiA1.0v\n",
        "!cmake . \n",
        "!make "
      ],
      "metadata": {
        "id": "yD8jWrSwu3ro"
      },
      "execution_count": null,
      "outputs": []
    },
    {
      "cell_type": "markdown",
      "source": [
        "Testing the compiled executable without arguments:"
      ],
      "metadata": {
        "id": "cG_cx5MJLI6q"
      }
    },
    {
      "cell_type": "code",
      "source": [
        "!./PRIMoRDiA_1.25v"
      ],
      "metadata": {
        "id": "-dF3yI3YLIPK"
      },
      "execution_count": null,
      "outputs": []
    },
    {
      "cell_type": "markdown",
      "source": [
        "# Tutorial 1 "
      ],
      "metadata": {
        "id": "8GqS2hOJWG4O"
      }
    },
    {
      "cell_type": "markdown",
      "source": [
        "Go to the folder where are the Tutorial Files "
      ],
      "metadata": {
        "id": "PdY1KHyIWpnX"
      }
    },
    {
      "cell_type": "code",
      "source": [
        "!tar -xf Tutorials_Files.tar.bz2"
      ],
      "metadata": {
        "id": "0ZNKBq6_ln6G"
      },
      "execution_count": null,
      "outputs": []
    },
    {
      "cell_type": "code",
      "source": [
        "%cd /content/PRIMoRDiA1.0v/Tutorials_Files/Tutorial_1"
      ],
      "metadata": {
        "id": "_-oXwbocWFRx"
      },
      "execution_count": null,
      "outputs": []
    },
    {
      "cell_type": "code",
      "source": [
        "!/content/PRIMoRDiA1.0v/PRIMoRDiA_1.25v -input -op 1 -p mopac -grid 40 "
      ],
      "metadata": {
        "id": "mqtVeMl7YiEd"
      },
      "execution_count": null,
      "outputs": []
    },
    {
      "cell_type": "markdown",
      "source": [
        "Let us see the produced input:"
      ],
      "metadata": {
        "id": "8P4MihKHKEyn"
      }
    },
    {
      "cell_type": "code",
      "source": [
        "%cat < primordia.input "
      ],
      "metadata": {
        "id": "AcZC_tYEZiOR"
      },
      "execution_count": null,
      "outputs": []
    },
    {
      "cell_type": "markdown",
      "source": [
        "Let us use the edited input provided along the tutorial files"
      ],
      "metadata": {
        "id": "TNRBreZ7KJsR"
      }
    },
    {
      "cell_type": "code",
      "source": [
        "%cat < primordia_edit.input"
      ],
      "metadata": {
        "id": "HkzpPx8Ra4GO"
      },
      "execution_count": null,
      "outputs": []
    },
    {
      "cell_type": "code",
      "source": [
        "!/content/PRIMoRDiA1.0v/PRIMoRDiA_1.25v -f primordia_edit.input "
      ],
      "metadata": {
        "id": "StI5d7lKbCcv"
      },
      "execution_count": null,
      "outputs": []
    },
    {
      "cell_type": "markdown",
      "source": [
        "List the results of the calculation"
      ],
      "metadata": {
        "id": "65VJZLB8KRab"
      }
    },
    {
      "cell_type": "code",
      "source": [
        "%ls"
      ],
      "metadata": {
        "id": "b4CoDf_UeJoE"
      },
      "execution_count": null,
      "outputs": []
    }
  ]
}